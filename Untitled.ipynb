{
 "cells": [
  {
   "cell_type": "code",
   "execution_count": 1,
   "id": "be48e411",
   "metadata": {},
   "outputs": [
    {
     "data": {
      "text/html": [
       "<div>\n",
       "<style scoped>\n",
       "    .dataframe tbody tr th:only-of-type {\n",
       "        vertical-align: middle;\n",
       "    }\n",
       "\n",
       "    .dataframe tbody tr th {\n",
       "        vertical-align: top;\n",
       "    }\n",
       "\n",
       "    .dataframe thead th {\n",
       "        text-align: right;\n",
       "    }\n",
       "</style>\n",
       "<table border=\"1\" class=\"dataframe\">\n",
       "  <thead>\n",
       "    <tr style=\"text-align: right;\">\n",
       "      <th></th>\n",
       "      <th>location</th>\n",
       "      <th>daterange</th>\n",
       "      <th>SalesTrend</th>\n",
       "      <th>vintage</th>\n",
       "    </tr>\n",
       "  </thead>\n",
       "  <tbody>\n",
       "    <tr>\n",
       "      <th>0</th>\n",
       "      <td>{'geoID': 'ZI94619'}</td>\n",
       "      <td>{'start': 'February 2016', 'end': 'February 20...</td>\n",
       "      <td>{'homesalecount': 16, 'avgsaleprice': 679944.0...</td>\n",
       "      <td>{'pubDate': '2021-11-27'}</td>\n",
       "    </tr>\n",
       "    <tr>\n",
       "      <th>1</th>\n",
       "      <td>{'geoID': 'ZI94619'}</td>\n",
       "      <td>{'start': 'March 2016', 'end': 'March 2016', '...</td>\n",
       "      <td>{'homesalecount': 29, 'avgsaleprice': 638931.0...</td>\n",
       "      <td>{'pubDate': '2021-11-27'}</td>\n",
       "    </tr>\n",
       "    <tr>\n",
       "      <th>2</th>\n",
       "      <td>{'geoID': 'ZI94619'}</td>\n",
       "      <td>{'start': 'April 2016', 'end': 'April 2016', '...</td>\n",
       "      <td>{'homesalecount': 37, 'avgsaleprice': 582743.0...</td>\n",
       "      <td>{'pubDate': '2021-11-27'}</td>\n",
       "    </tr>\n",
       "    <tr>\n",
       "      <th>3</th>\n",
       "      <td>{'geoID': 'ZI94619'}</td>\n",
       "      <td>{'start': 'May 2016', 'end': 'May 2016', 'inte...</td>\n",
       "      <td>{'homesalecount': 39, 'avgsaleprice': 675054.0...</td>\n",
       "      <td>{'pubDate': '2021-11-27'}</td>\n",
       "    </tr>\n",
       "    <tr>\n",
       "      <th>4</th>\n",
       "      <td>{'geoID': 'ZI94619'}</td>\n",
       "      <td>{'start': 'July 2016', 'end': 'July 2016', 'in...</td>\n",
       "      <td>{'homesalecount': 35, 'avgsaleprice': 658134.0...</td>\n",
       "      <td>{'pubDate': '2021-11-27'}</td>\n",
       "    </tr>\n",
       "  </tbody>\n",
       "</table>\n",
       "</div>"
      ],
      "text/plain": [
       "               location                                          daterange  \\\n",
       "0  {'geoID': 'ZI94619'}  {'start': 'February 2016', 'end': 'February 20...   \n",
       "1  {'geoID': 'ZI94619'}  {'start': 'March 2016', 'end': 'March 2016', '...   \n",
       "2  {'geoID': 'ZI94619'}  {'start': 'April 2016', 'end': 'April 2016', '...   \n",
       "3  {'geoID': 'ZI94619'}  {'start': 'May 2016', 'end': 'May 2016', 'inte...   \n",
       "4  {'geoID': 'ZI94619'}  {'start': 'July 2016', 'end': 'July 2016', 'in...   \n",
       "\n",
       "                                          SalesTrend  \\\n",
       "0  {'homesalecount': 16, 'avgsaleprice': 679944.0...   \n",
       "1  {'homesalecount': 29, 'avgsaleprice': 638931.0...   \n",
       "2  {'homesalecount': 37, 'avgsaleprice': 582743.0...   \n",
       "3  {'homesalecount': 39, 'avgsaleprice': 675054.0...   \n",
       "4  {'homesalecount': 35, 'avgsaleprice': 658134.0...   \n",
       "\n",
       "                     vintage  \n",
       "0  {'pubDate': '2021-11-27'}  \n",
       "1  {'pubDate': '2021-11-27'}  \n",
       "2  {'pubDate': '2021-11-27'}  \n",
       "3  {'pubDate': '2021-11-27'}  \n",
       "4  {'pubDate': '2021-11-27'}  "
      ]
     },
     "execution_count": 1,
     "metadata": {},
     "output_type": "execute_result"
    }
   ],
   "source": [
    "import pandas as pd\n",
    "\n",
    "df = pd.read_json('data/sales_search.json')\n",
    "df.head()"
   ]
  },
  {
   "cell_type": "code",
   "execution_count": null,
   "id": "e0cb87e7",
   "metadata": {},
   "outputs": [],
   "source": []
  }
 ],
 "metadata": {
  "kernelspec": {
   "display_name": "Python 3 (ipykernel)",
   "language": "python",
   "name": "python3"
  },
  "language_info": {
   "codemirror_mode": {
    "name": "ipython",
    "version": 3
   },
   "file_extension": ".py",
   "mimetype": "text/x-python",
   "name": "python",
   "nbconvert_exporter": "python",
   "pygments_lexer": "ipython3",
   "version": "3.9.4"
  }
 },
 "nbformat": 4,
 "nbformat_minor": 5
}
