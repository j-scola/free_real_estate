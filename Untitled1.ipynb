{
 "cells": [
  {
   "cell_type": "code",
   "execution_count": 4,
   "id": "8e68d52f",
   "metadata": {},
   "outputs": [
    {
     "data": {
      "text/html": [
       "<div>\n",
       "<style scoped>\n",
       "    .dataframe tbody tr th:only-of-type {\n",
       "        vertical-align: middle;\n",
       "    }\n",
       "\n",
       "    .dataframe tbody tr th {\n",
       "        vertical-align: top;\n",
       "    }\n",
       "\n",
       "    .dataframe thead th {\n",
       "        text-align: right;\n",
       "    }\n",
       "</style>\n",
       "<table border=\"1\" class=\"dataframe\">\n",
       "  <thead>\n",
       "    <tr style=\"text-align: right;\">\n",
       "      <th></th>\n",
       "      <th>postid_7424123818</th>\n",
       "      <th>2005 Harley Davidson V-ROD Screaming Eagle CVO VRSCSE</th>\n",
       "      <th>Dec 22</th>\n",
       "      <th>$10,500</th>\n",
       "      <th>(Lathrop east bay area )</th>\n",
       "      <th>https://sfbay.craigslist.org/eby/mcd/d/lathrop-2005-harley-davidson-rod/7424123818.html</th>\n",
       "    </tr>\n",
       "  </thead>\n",
       "  <tbody>\n",
       "    <tr>\n",
       "      <th>0</th>\n",
       "      <td>postid_7424121471</td>\n",
       "      <td>2019 HONDA VT750 SHADOW PHANTOM - $0 Down O.A.C.</td>\n",
       "      <td>Dec 22</td>\n",
       "      <td>$8,499</td>\n",
       "      <td>(millbrae)</td>\n",
       "      <td>https://sfbay.craigslist.org/pen/mcd/d/millbra...</td>\n",
       "    </tr>\n",
       "    <tr>\n",
       "      <th>1</th>\n",
       "      <td>postid_7424121314</td>\n",
       "      <td>2019 HONDA MONKEY Z125 - $0 Down O.A.C.</td>\n",
       "      <td>Dec 22</td>\n",
       "      <td>$5,299</td>\n",
       "      <td>(millbrae)</td>\n",
       "      <td>https://sfbay.craigslist.org/pen/mcd/d/millbra...</td>\n",
       "    </tr>\n",
       "    <tr>\n",
       "      <th>2</th>\n",
       "      <td>postid_7424120203</td>\n",
       "      <td>2007 Ducati 1098</td>\n",
       "      <td>Dec 22</td>\n",
       "      <td>$8,500</td>\n",
       "      <td>(willow glen / cambrian)</td>\n",
       "      <td>https://sfbay.craigslist.org/sby/mcy/d/san-jos...</td>\n",
       "    </tr>\n",
       "    <tr>\n",
       "      <th>3</th>\n",
       "      <td>postid_7424115771</td>\n",
       "      <td>2020 TTR110</td>\n",
       "      <td>Dec 22</td>\n",
       "      <td>$3,850</td>\n",
       "      <td>(danville / san ramon)</td>\n",
       "      <td>https://sfbay.craigslist.org/eby/mcy/d/danvill...</td>\n",
       "    </tr>\n",
       "    <tr>\n",
       "      <th>4</th>\n",
       "      <td>postid_7424104275</td>\n",
       "      <td>HONDA CR 250</td>\n",
       "      <td>Dec 22</td>\n",
       "      <td>$4,500</td>\n",
       "      <td>(dublin / pleasanton / livermore)</td>\n",
       "      <td>https://sfbay.craigslist.org/eby/mcy/d/pleasan...</td>\n",
       "    </tr>\n",
       "  </tbody>\n",
       "</table>\n",
       "</div>"
      ],
      "text/plain": [
       "   postid_7424123818 2005 Harley Davidson V-ROD Screaming Eagle CVO VRSCSE  \\\n",
       "0  postid_7424121471   2019 HONDA VT750 SHADOW PHANTOM - $0 Down O.A.C.      \n",
       "1  postid_7424121314            2019 HONDA MONKEY Z125 - $0 Down O.A.C.      \n",
       "2  postid_7424120203                                   2007 Ducati 1098      \n",
       "3  postid_7424115771                                        2020 TTR110      \n",
       "4  postid_7424104275                                       HONDA CR 250      \n",
       "\n",
       "   Dec 22 $10,500            (Lathrop east bay area )  \\\n",
       "0  Dec 22  $8,499                          (millbrae)   \n",
       "1  Dec 22  $5,299                          (millbrae)   \n",
       "2  Dec 22  $8,500            (willow glen / cambrian)   \n",
       "3  Dec 22  $3,850              (danville / san ramon)   \n",
       "4  Dec 22  $4,500   (dublin / pleasanton / livermore)   \n",
       "\n",
       "  https://sfbay.craigslist.org/eby/mcd/d/lathrop-2005-harley-davidson-rod/7424123818.html  \n",
       "0  https://sfbay.craigslist.org/pen/mcd/d/millbra...                                       \n",
       "1  https://sfbay.craigslist.org/pen/mcd/d/millbra...                                       \n",
       "2  https://sfbay.craigslist.org/sby/mcy/d/san-jos...                                       \n",
       "3  https://sfbay.craigslist.org/eby/mcy/d/danvill...                                       \n",
       "4  https://sfbay.craigslist.org/eby/mcy/d/pleasan...                                       "
      ]
     },
     "execution_count": 4,
     "metadata": {},
     "output_type": "execute_result"
    }
   ],
   "source": [
    "import pandas as pd\n",
    "\n",
    "df = pd.read_csv('data/motorcycles.txt', sep='\\t')\n",
    "df.head()\n"
   ]
  },
  {
   "cell_type": "code",
   "execution_count": 5,
   "id": "7a12ae84",
   "metadata": {},
   "outputs": [
    {
     "ename": "TypeError",
     "evalue": "'tuple' object is not callable",
     "output_type": "error",
     "traceback": [
      "\u001b[0;31m---------------------------------------------------------------------------\u001b[0m",
      "\u001b[0;31mTypeError\u001b[0m                                 Traceback (most recent call last)",
      "\u001b[0;32m/var/folders/5s/kff1_q7n777b7k4dh642dq_40000gn/T/ipykernel_22050/2739220193.py\u001b[0m in \u001b[0;36m<module>\u001b[0;34m\u001b[0m\n\u001b[0;32m----> 1\u001b[0;31m \u001b[0mdf\u001b[0m\u001b[0;34m.\u001b[0m\u001b[0mshape\u001b[0m\u001b[0;34m(\u001b[0m\u001b[0;34m)\u001b[0m\u001b[0;34m\u001b[0m\u001b[0;34m\u001b[0m\u001b[0m\n\u001b[0m",
      "\u001b[0;31mTypeError\u001b[0m: 'tuple' object is not callable"
     ]
    }
   ],
   "source": []
  },
  {
   "cell_type": "code",
   "execution_count": null,
   "id": "7d055e8d",
   "metadata": {},
   "outputs": [],
   "source": []
  }
 ],
 "metadata": {
  "kernelspec": {
   "display_name": "Python 3 (ipykernel)",
   "language": "python",
   "name": "python3"
  },
  "language_info": {
   "codemirror_mode": {
    "name": "ipython",
    "version": 3
   },
   "file_extension": ".py",
   "mimetype": "text/x-python",
   "name": "python",
   "nbconvert_exporter": "python",
   "pygments_lexer": "ipython3",
   "version": "3.9.4"
  }
 },
 "nbformat": 4,
 "nbformat_minor": 5
}
